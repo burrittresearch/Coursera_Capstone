{
 "cells": [
  {
   "cell_type": "markdown",
   "metadata": {},
   "source": [
    "# Coursera Capstone Project\n",
    "\n",
    "Student: Jonathan Burritt\n",
    "\n",
    "This notebook will be used for the final assignments for the Applied Data Science Capstone course. The assignments are indicated using markdown and are as follows:\n",
    "\n",
    "* Assignment 1: GitHub Prep\n",
    "* Assignment 2: Segmenting and Clustering Neighborhoods in Toronto -- coming soon\n",
    "* Assignment 3: The Battle of Neighborhoods Week 1 -- coming soon\n",
    "* Assignment 4: The Battle of Neighborhoods Week 2 -- coming soon\n"
   ]
  },
  {
   "cell_type": "markdown",
   "metadata": {},
   "source": [
    "### Assignment 1: GitHub Prep"
   ]
  },
  {
   "cell_type": "code",
   "execution_count": 1,
   "metadata": {},
   "outputs": [],
   "source": [
    "# Import pandas module under alias pd\n",
    "\n",
    "import pandas as pd\n",
    "\n",
    "# Imports numpy module under alias np\n",
    "\n",
    "import numpy as np\n"
   ]
  },
  {
   "cell_type": "code",
   "execution_count": 2,
   "metadata": {},
   "outputs": [
    {
     "name": "stdout",
     "output_type": "stream",
     "text": [
      "Hello Capstone Project Course!\n"
     ]
    }
   ],
   "source": [
    "# Print statement\n",
    "\n",
    "print ('Hello Capstone Project Course!')\n"
   ]
  },
  {
   "cell_type": "markdown",
   "metadata": {},
   "source": [
    "### Assignment 2: Segmenting and Clustering Neighborhoods in Toronto -- coming soon"
   ]
  },
  {
   "cell_type": "markdown",
   "metadata": {},
   "source": [
    "### Assignment 3: The Battle of Neighborhoods Week 1 -- coming soon"
   ]
  },
  {
   "cell_type": "markdown",
   "metadata": {},
   "source": [
    "### Assignment 4: The Battle of Neighborhoods Week 2 -- coming soon"
   ]
  }
 ],
 "metadata": {
  "kernelspec": {
   "display_name": "Python 3",
   "language": "python",
   "name": "python3"
  },
  "language_info": {
   "codemirror_mode": {
    "name": "ipython",
    "version": 3
   },
   "file_extension": ".py",
   "mimetype": "text/x-python",
   "name": "python",
   "nbconvert_exporter": "python",
   "pygments_lexer": "ipython3",
   "version": "3.8.3"
  }
 },
 "nbformat": 4,
 "nbformat_minor": 4
}
